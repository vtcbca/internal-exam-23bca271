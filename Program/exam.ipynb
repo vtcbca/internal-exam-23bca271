{
 "cells": [
  {
   "cell_type": "markdown",
   "id": "45079003-3429-49f3-b936-05fc70ceff2d",
   "metadata": {},
   "source": [
    "## Create table emp(empid, empname, salary) and insert 8 records. Print only those records where salary > 10000  and write this data into salary.csv file. Do all this task from python."
   ]
  },
  {
   "cell_type": "code",
   "execution_count": 12,
   "id": "b29d6977-f347-4103-832a-9bab99a0fc64",
   "metadata": {},
   "outputs": [],
   "source": [
    "import sqlite3"
   ]
  },
  {
   "cell_type": "code",
   "execution_count": 13,
   "id": "7c98b7f7-864d-4440-8e95-e63645c9965c",
   "metadata": {},
   "outputs": [],
   "source": [
    "import csv"
   ]
  },
  {
   "cell_type": "code",
   "execution_count": 14,
   "id": "dbabaed0-72db-48ce-a8be-581dfbced5ca",
   "metadata": {},
   "outputs": [],
   "source": [
    "conn = sqlite3.connect('employees.db')"
   ]
  },
  {
   "cell_type": "code",
   "execution_count": 15,
   "id": "365c610e-22d9-4883-b87a-f19196300349",
   "metadata": {},
   "outputs": [],
   "source": [
    "cursor = conn.cursor()"
   ]
  },
  {
   "cell_type": "code",
   "execution_count": 16,
   "id": "232cca90-82f1-4852-9a05-1fcf14a5eb60",
   "metadata": {},
   "outputs": [
    {
     "data": {
      "text/plain": [
       "<sqlite3.Cursor at 0x16a1c1381f0>"
      ]
     },
     "execution_count": 16,
     "metadata": {},
     "output_type": "execute_result"
    }
   ],
   "source": [
    "cursor.execute(\"CREATE TABLE IF NOT EXISTS employees (empid INTEGER PRIMARY KEY,empname TEXT NOT NULL,salary REAL NOT NULL)\")"
   ]
  },
  {
   "cell_type": "code",
   "execution_count": 17,
   "id": "4cb016ca-20cb-485f-8d79-72abc049fe57",
   "metadata": {},
   "outputs": [],
   "source": [
    "records = [\n",
    "    (1, 'om', 12000),\n",
    "    (2, 'sai', 8000),\n",
    "    (3, 'ram', 15000),\n",
    "    (4, 'radha', 9000),\n",
    "    (5, 'krishna', 16000),\n",
    "    (6, 'gopi', 7000),\n",
    "    (7, 'rasi', 11000),\n",
    "    (8, 'sita', 5000)\n",
    "]"
   ]
  },
  {
   "cell_type": "code",
   "execution_count": 18,
   "id": "d0831af4-531b-4185-8c96-f2bb5650b234",
   "metadata": {},
   "outputs": [],
   "source": [
    "conn.commit()"
   ]
  },
  {
   "cell_type": "code",
   "execution_count": 19,
   "id": "34bb6df5-850e-4628-8b0d-e266fb8537c8",
   "metadata": {},
   "outputs": [
    {
     "data": {
      "text/plain": [
       "<sqlite3.Cursor at 0x16a1c1381f0>"
      ]
     },
     "execution_count": 19,
     "metadata": {},
     "output_type": "execute_result"
    }
   ],
   "source": [
    "cursor.execute('SELECT * FROM employees WHERE salary > 10000')"
   ]
  },
  {
   "cell_type": "code",
   "execution_count": 20,
   "id": "e557f09a-6f91-4080-b90c-2b2e4adb3660",
   "metadata": {},
   "outputs": [],
   "source": [
    "rows = cursor.fetchall()"
   ]
  },
  {
   "cell_type": "code",
   "execution_count": 21,
   "id": "3a2c86b4-bf9e-4946-b33a-4ccab6d4eae8",
   "metadata": {},
   "outputs": [],
   "source": [
    "with open('salary.csv', 'w', newline='') as csvfile:\n",
    "    csvwriter = csv.writer(csvfile)\n",
    "    csvwriter.writerow(['empid', 'empname', 'salary'])  \n",
    "    csvwriter.writerows(rows)"
   ]
  },
  {
   "cell_type": "code",
   "execution_count": 22,
   "id": "4fd59905-d336-414e-acf5-607d19ea7dea",
   "metadata": {},
   "outputs": [
    {
     "name": "stdout",
     "output_type": "stream",
     "text": [
      "Records with salary > 10000 have been written to salary.csv.\n"
     ]
    }
   ],
   "source": [
    "print(\"Records with salary > 10000 have been written to salary.csv.\")"
   ]
  },
  {
   "cell_type": "code",
   "execution_count": null,
   "id": "9e788ee5-be55-4c91-ab79-ced0652132cb",
   "metadata": {},
   "outputs": [],
   "source": []
  }
 ],
 "metadata": {
  "kernelspec": {
   "display_name": "Python 3 (ipykernel)",
   "language": "python",
   "name": "python3"
  },
  "language_info": {
   "codemirror_mode": {
    "name": "ipython",
    "version": 3
   },
   "file_extension": ".py",
   "mimetype": "text/x-python",
   "name": "python",
   "nbconvert_exporter": "python",
   "pygments_lexer": "ipython3",
   "version": "3.9.6"
  }
 },
 "nbformat": 4,
 "nbformat_minor": 5
}
