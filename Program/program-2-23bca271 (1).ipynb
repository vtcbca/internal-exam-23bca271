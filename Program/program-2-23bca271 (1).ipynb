{
 "cells": [
  {
   "cell_type": "markdown",
   "id": "45079003-3429-49f3-b936-05fc70ceff2d",
   "metadata": {},
   "source": [
    "## 2. Create table emp(empid, empname, salary) and insert 8 records. Print only those records where salary > 10000  and write this data into salary.csv file. Do all this task from python."
   ]
  },
  {
   "cell_type": "code",
   "execution_count": null,
   "id": "b29d6977-f347-4103-832a-9bab99a0fc64",
   "metadata": {},
   "outputs": [],
   "source": [
    "import sqlite3 as sq"
   ]
  },
  {
   "cell_type": "code",
   "execution_count": 19,
   "id": "7c98b7f7-864d-4440-8e95-e63645c9965c",
   "metadata": {},
   "outputs": [],
   "source": [
    "import csv"
   ]
  },
  {
   "cell_type": "code",
   "execution_count": 20,
   "id": "dbabaed0-72db-48ce-a8be-581dfbced5ca",
   "metadata": {},
   "outputs": [],
   "source": [
    "conn = sq.connect('employees.db')"
   ]
  },
  {
   "cell_type": "code",
   "execution_count": 21,
   "id": "365c610e-22d9-4883-b87a-f19196300349",
   "metadata": {},
   "outputs": [],
   "source": [
    "cur=conn.cursor()"
   ]
  },
  {
   "cell_type": "code",
   "execution_count": 27,
   "id": "4de40178-73ca-438d-a1e5-e0d55a0ee61e",
   "metadata": {},
   "outputs": [],
   "source": [
    "q=\"CREATE TABLE if not exists employees1(empid INTEGER PRIMARY KEY,empname TEXT NOT NULL,salary REAL NOT NULL)\""
   ]
  },
  {
   "cell_type": "code",
   "execution_count": 28,
   "id": "4cb016ca-20cb-485f-8d79-72abc049fe57",
   "metadata": {},
   "outputs": [
    {
     "data": {
      "text/plain": [
       "<sqlite3.Cursor at 0x2347896f5e0>"
      ]
     },
     "execution_count": 28,
     "metadata": {},
     "output_type": "execute_result"
    }
   ],
   "source": [
    "cur.execute(q)"
   ]
  },
  {
   "cell_type": "code",
   "execution_count": 29,
   "id": "2c653489-6fb8-4864-a2c0-b80493d97891",
   "metadata": {},
   "outputs": [],
   "source": [
    "conn.commit()"
   ]
  },
  {
   "cell_type": "code",
   "execution_count": 30,
   "id": "0cc0f112-d414-4f88-bc98-ea1bf812e5d8",
   "metadata": {},
   "outputs": [],
   "source": [
    "cur=conn.cursor()"
   ]
  },
  {
   "cell_type": "code",
   "execution_count": 43,
   "id": "54c11009-a82f-4a80-a56e-783263829c3c",
   "metadata": {},
   "outputs": [
    {
     "data": {
      "text/plain": [
       "<sqlite3.Cursor at 0x2347896f7a0>"
      ]
     },
     "execution_count": 43,
     "metadata": {},
     "output_type": "execute_result"
    }
   ],
   "source": [
    "cur.execute(\"insert into employees1 values(10,'om',12000)\")"
   ]
  },
  {
   "cell_type": "code",
   "execution_count": 44,
   "id": "f7837594-75fb-43e9-843e-21fd70852bd7",
   "metadata": {},
   "outputs": [
    {
     "data": {
      "text/plain": [
       "<sqlite3.Cursor at 0x2347896f7a0>"
      ]
     },
     "execution_count": 44,
     "metadata": {},
     "output_type": "execute_result"
    }
   ],
   "source": [
    "cur.execute(\"insert into employees1 values(20, 'sai', 8000)\")"
   ]
  },
  {
   "cell_type": "code",
   "execution_count": 45,
   "id": "dad141a0-97be-4cc7-b5ab-15ebf5b2359e",
   "metadata": {},
   "outputs": [
    {
     "data": {
      "text/plain": [
       "<sqlite3.Cursor at 0x2347896f7a0>"
      ]
     },
     "execution_count": 45,
     "metadata": {},
     "output_type": "execute_result"
    }
   ],
   "source": [
    "cur.execute(\"insert into employees1 values(30, 'ram', 15000)\")"
   ]
  },
  {
   "cell_type": "code",
   "execution_count": 46,
   "id": "b24e8f5c-28c0-41ac-adf4-f126aca1887a",
   "metadata": {},
   "outputs": [
    {
     "data": {
      "text/plain": [
       "<sqlite3.Cursor at 0x2347896f7a0>"
      ]
     },
     "execution_count": 46,
     "metadata": {},
     "output_type": "execute_result"
    }
   ],
   "source": [
    "cur.execute(\"insert into employees1 values(40, 'radha', 9000)\")"
   ]
  },
  {
   "cell_type": "code",
   "execution_count": 47,
   "id": "f02f9546-1b67-4d38-adff-93f1e64f7736",
   "metadata": {},
   "outputs": [
    {
     "data": {
      "text/plain": [
       "<sqlite3.Cursor at 0x2347896f7a0>"
      ]
     },
     "execution_count": 47,
     "metadata": {},
     "output_type": "execute_result"
    }
   ],
   "source": [
    "cur.execute(\"insert into employees1 values(50, 'krishna', 16000)\")"
   ]
  },
  {
   "cell_type": "code",
   "execution_count": 48,
   "id": "99df3ae8-960b-4556-8bd8-159a2576a0c7",
   "metadata": {},
   "outputs": [
    {
     "data": {
      "text/plain": [
       "<sqlite3.Cursor at 0x2347896f7a0>"
      ]
     },
     "execution_count": 48,
     "metadata": {},
     "output_type": "execute_result"
    }
   ],
   "source": [
    "cur.execute(\"insert into employees1 values(60, 'gopi', 7000)\")"
   ]
  },
  {
   "cell_type": "code",
   "execution_count": 49,
   "id": "e5992c4c-0376-4ee2-aba7-62a62dc025c8",
   "metadata": {},
   "outputs": [
    {
     "data": {
      "text/plain": [
       "<sqlite3.Cursor at 0x2347896f7a0>"
      ]
     },
     "execution_count": 49,
     "metadata": {},
     "output_type": "execute_result"
    }
   ],
   "source": [
    "cur.execute(\"insert into employees1 values(70, 'rasi', 11000)\")"
   ]
  },
  {
   "cell_type": "code",
   "execution_count": 50,
   "id": "87a54651-31ca-474a-bbc7-7b5d35bb9161",
   "metadata": {},
   "outputs": [
    {
     "data": {
      "text/plain": [
       "<sqlite3.Cursor at 0x2347896f7a0>"
      ]
     },
     "execution_count": 50,
     "metadata": {},
     "output_type": "execute_result"
    }
   ],
   "source": [
    "cur.execute(\"insert into employees1 values(80, 'sita', 5000)\")"
   ]
  },
  {
   "cell_type": "code",
   "execution_count": 51,
   "id": "d0831af4-531b-4185-8c96-f2bb5650b234",
   "metadata": {},
   "outputs": [],
   "source": [
    "conn.commit()"
   ]
  },
  {
   "cell_type": "code",
   "execution_count": 53,
   "id": "34bb6df5-850e-4628-8b0d-e266fb8537c8",
   "metadata": {},
   "outputs": [
    {
     "data": {
      "text/plain": [
       "<sqlite3.Cursor at 0x2347896f7a0>"
      ]
     },
     "execution_count": 53,
     "metadata": {},
     "output_type": "execute_result"
    }
   ],
   "source": [
    "cur.execute('SELECT * FROM employees1 WHERE salary > 10000')"
   ]
  },
  {
   "cell_type": "code",
   "execution_count": 55,
   "id": "e557f09a-6f91-4080-b90c-2b2e4adb3660",
   "metadata": {},
   "outputs": [],
   "source": [
    "rows = cur.fetchall()"
   ]
  },
  {
   "cell_type": "code",
   "execution_count": 56,
   "id": "b5f0d744-6d1c-4dc9-ad35-8147ccef729c",
   "metadata": {},
   "outputs": [
    {
     "name": "stdout",
     "output_type": "stream",
     "text": [
      "[(1, 'om', 12000.0), (3, 'ram', 15000.0), (5, 'krishna', 16000.0), (7, 'rasi', 11000.0), (10, 'om', 12000.0), (30, 'ram', 15000.0), (50, 'krishna', 16000.0), (70, 'rasi', 11000.0)]\n"
     ]
    }
   ],
   "source": [
    "print(rows)"
   ]
  },
  {
   "cell_type": "code",
   "execution_count": 57,
   "id": "3a2c86b4-bf9e-4946-b33a-4ccab6d4eae8",
   "metadata": {},
   "outputs": [
    {
     "ename": "AttributeError",
     "evalue": "'_io.TextIOWrapper' object has no attribute 'reader'",
     "output_type": "error",
     "traceback": [
      "\u001b[1;31m---------------------------------------------------------------------------\u001b[0m",
      "\u001b[1;31mAttributeError\u001b[0m                            Traceback (most recent call last)",
      "Cell \u001b[1;32mIn[57], line 2\u001b[0m\n\u001b[0;32m      1\u001b[0m \u001b[38;5;28;01mwith\u001b[39;00m \u001b[38;5;28mopen\u001b[39m(\u001b[38;5;124m'\u001b[39m\u001b[38;5;124mC:\u001b[39m\u001b[38;5;130;01m\\\\\u001b[39;00m\u001b[38;5;124m23bca271\u001b[39m\u001b[38;5;124m\\\u001b[39m\u001b[38;5;124mpython\u001b[39m\u001b[38;5;124m\\\u001b[39m\u001b[38;5;124msalary.csv\u001b[39m\u001b[38;5;124m'\u001b[39m,\u001b[38;5;124m'\u001b[39m\u001b[38;5;124mr\u001b[39m\u001b[38;5;124m'\u001b[39m) \u001b[38;5;28;01mas\u001b[39;00m csv:\n\u001b[1;32m----> 2\u001b[0m     csv_read\u001b[38;5;241m=\u001b[39m\u001b[43mcsv\u001b[49m\u001b[38;5;241;43m.\u001b[39;49m\u001b[43mreader\u001b[49m(csv)\n\u001b[0;32m      3\u001b[0m     \u001b[38;5;28;01mfor\u001b[39;00m r \u001b[38;5;129;01min\u001b[39;00m csv_read:\n\u001b[0;32m      4\u001b[0m         \u001b[38;5;28mprint\u001b[39m(r)\n",
      "\u001b[1;31mAttributeError\u001b[0m: '_io.TextIOWrapper' object has no attribute 'reader'"
     ]
    }
   ],
   "source": [
    "with open('C:\\\\23bca271\\python\\salary.csv','r') as csv:\n",
    "    csv_read=csv.reader(csv)\n",
    "    for r in csv_read:\n",
    "        print(r)"
   ]
  },
  {
   "cell_type": "code",
   "execution_count": 58,
   "id": "54c04113-921d-4beb-a8bf-47833fe1a26b",
   "metadata": {},
   "outputs": [
    {
     "name": "stdout",
     "output_type": "stream",
     "text": [
      "Records with salary > 10000 have been written to salary.csv.\n"
     ]
    }
   ],
   "source": [
    "print(\"Records with salary > 10000 have been written to salary.csv.\")"
   ]
  },
  {
   "cell_type": "code",
   "execution_count": 59,
   "id": "3812c87a-4233-43bc-b31c-6e1f7286cf7b",
   "metadata": {},
   "outputs": [
    {
     "name": "stdout",
     "output_type": "stream",
     "text": [
      "\n"
     ]
    }
   ],
   "source": [
    "print()"
   ]
  },
  {
   "cell_type": "code",
   "execution_count": null,
   "id": "b2a86d71-052d-4768-9977-b68d8f1c4753",
   "metadata": {},
   "outputs": [],
   "source": []
  },
  {
   "cell_type": "code",
   "execution_count": null,
   "id": "32968fff-d402-421a-be52-da65248bcdcc",
   "metadata": {},
   "outputs": [],
   "source": []
  },
  {
   "cell_type": "code",
   "execution_count": null,
   "id": "26b0b1b0-b911-472f-bb81-7236dcf11ed6",
   "metadata": {},
   "outputs": [],
   "source": []
  }
 ],
 "metadata": {
  "kernelspec": {
   "display_name": "Python 3 (ipykernel)",
   "language": "python",
   "name": "python3"
  },
  "language_info": {
   "codemirror_mode": {
    "name": "ipython",
    "version": 3
   },
   "file_extension": ".py",
   "mimetype": "text/x-python",
   "name": "python",
   "nbconvert_exporter": "python",
   "pygments_lexer": "ipython3",
   "version": "3.9.6"
  }
 },
 "nbformat": 4,
 "nbformat_minor": 5
}
