{
 "cells": [
  {
   "cell_type": "markdown",
   "id": "45079003-3429-49f3-b936-05fc70ceff2d",
   "metadata": {},
   "source": [
    "## 2. Create table emp(empid, empname, salary) and insert 8 records. Print only those records where salary > 10000  and write this data into salary.csv file. Do all this task from python."
   ]
  },
  {
   "cell_type": "code",
   "execution_count": 1,
   "id": "b29d6977-f347-4103-832a-9bab99a0fc64",
   "metadata": {},
   "outputs": [],
   "source": [
    "import sqlite3"
   ]
  },
  {
   "cell_type": "code",
   "execution_count": 2,
   "id": "7c98b7f7-864d-4440-8e95-e63645c9965c",
   "metadata": {},
   "outputs": [],
   "source": [
    "import csv"
   ]
  },
  {
   "cell_type": "code",
   "execution_count": 3,
   "id": "dbabaed0-72db-48ce-a8be-581dfbced5ca",
   "metadata": {},
   "outputs": [],
   "source": [
    "conn = sqlite3.connect('employees.db')"
   ]
  },
  {
   "cell_type": "code",
   "execution_count": 4,
   "id": "365c610e-22d9-4883-b87a-f19196300349",
   "metadata": {},
   "outputs": [],
   "source": [
    "cursor = conn.cursor()"
   ]
  },
  {
   "cell_type": "code",
   "execution_count": 8,
   "id": "232cca90-82f1-4852-9a05-1fcf14a5eb60",
   "metadata": {},
   "outputs": [
    {
     "data": {
      "text/plain": [
       "<sqlite3.Cursor at 0x1b5d4ba3490>"
      ]
     },
     "execution_count": 8,
     "metadata": {},
     "output_type": "execute_result"
    }
   ],
   "source": [
    "cursor.execute(\"CREATE TABLE IF NOT EXISTS employees (empid INTEGER PRIMARY KEY,empname TEXT NOT NULL,salary REAL NOT NULL)\")"
   ]
  },
  {
   "cell_type": "code",
   "execution_count": 9,
   "id": "4cb016ca-20cb-485f-8d79-72abc049fe57",
   "metadata": {},
   "outputs": [],
   "source": [
    "records = [\n",
    "    (1, 'om', 12000),\n",
    "    (2, 'sai', 8000),\n",
    "    (3, 'ram', 15000),\n",
    "    (4, 'radha', 9000),\n",
    "    (5, 'krishna', 16000),\n",
    "    (6, 'gopi', 7000),\n",
    "    (7, 'rasi', 11000),\n",
    "    (8, 'sita', 5000)\n",
    "]"
   ]
  },
  {
   "cell_type": "code",
   "execution_count": 10,
   "id": "d0831af4-531b-4185-8c96-f2bb5650b234",
   "metadata": {},
   "outputs": [],
   "source": [
    "conn.commit()"
   ]
  },
  {
   "cell_type": "code",
   "execution_count": 11,
   "id": "34bb6df5-850e-4628-8b0d-e266fb8537c8",
   "metadata": {},
   "outputs": [
    {
     "data": {
      "text/plain": [
       "<sqlite3.Cursor at 0x1b5d4ba3490>"
      ]
     },
     "execution_count": 11,
     "metadata": {},
     "output_type": "execute_result"
    }
   ],
   "source": [
    "cursor.execute('SELECT * FROM employees WHERE salary > 10000')"
   ]
  },
  {
   "cell_type": "code",
   "execution_count": 12,
   "id": "e557f09a-6f91-4080-b90c-2b2e4adb3660",
   "metadata": {},
   "outputs": [],
   "source": [
    "rows = cursor.fetchall()"
   ]
  },
  {
   "cell_type": "code",
   "execution_count": 3,
   "id": "3a2c86b4-bf9e-4946-b33a-4ccab6d4eae8",
   "metadata": {},
   "outputs": [
    {
     "ename": "IndentationError",
     "evalue": "unexpected indent (2855575024.py, line 3)",
     "output_type": "error",
     "traceback": [
      "\u001b[1;36m  Cell \u001b[1;32mIn[3], line 3\u001b[1;36m\u001b[0m\n\u001b[1;33m    for r in csv_read:\u001b[0m\n\u001b[1;37m    ^\u001b[0m\n\u001b[1;31mIndentationError\u001b[0m\u001b[1;31m:\u001b[0m unexpected indent\n"
     ]
    }
   ],
   "source": [
    "with open('C:\\23bca271\\python\\salary.csv','r') as csv:\n",
    "   csv_read=csv.reader(csv)\n",
    "    for r in csv_read:\n",
    "        print(r)"
   ]
  },
  {
   "cell_type": "code",
   "execution_count": 4,
   "id": "54c04113-921d-4beb-a8bf-47833fe1a26b",
   "metadata": {},
   "outputs": [
    {
     "name": "stdout",
     "output_type": "stream",
     "text": [
      "Records with salary > 10000 have been written to salary.csv.\n"
     ]
    }
   ],
   "source": [
    "print(\"Records with salary > 10000 have been written to salary.csv.\")"
   ]
  },
  {
   "cell_type": "code",
   "execution_count": null,
   "id": "3812c87a-4233-43bc-b31c-6e1f7286cf7b",
   "metadata": {},
   "outputs": [],
   "source": []
  },
  {
   "cell_type": "code",
   "execution_count": null,
   "id": "b2a86d71-052d-4768-9977-b68d8f1c4753",
   "metadata": {},
   "outputs": [],
   "source": []
  },
  {
   "cell_type": "code",
   "execution_count": null,
   "id": "32968fff-d402-421a-be52-da65248bcdcc",
   "metadata": {},
   "outputs": [],
   "source": []
  },
  {
   "cell_type": "code",
   "execution_count": null,
   "id": "26b0b1b0-b911-472f-bb81-7236dcf11ed6",
   "metadata": {},
   "outputs": [],
   "source": []
  }
 ],
 "metadata": {
  "kernelspec": {
   "display_name": "Python 3 (ipykernel)",
   "language": "python",
   "name": "python3"
  },
  "language_info": {
   "codemirror_mode": {
    "name": "ipython",
    "version": 3
   },
   "file_extension": ".py",
   "mimetype": "text/x-python",
   "name": "python",
   "nbconvert_exporter": "python",
   "pygments_lexer": "ipython3",
   "version": "3.9.6"
  }
 },
 "nbformat": 4,
 "nbformat_minor": 5
}
